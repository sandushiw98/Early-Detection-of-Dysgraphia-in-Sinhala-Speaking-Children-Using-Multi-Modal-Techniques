{
  "cells": [
    {
      "cell_type": "markdown",
      "metadata": {
        "id": "uAe0QOaABBtI"
      },
      "source": [
        "# Mount Google Drive"
      ]
    },
    {
      "cell_type": "code",
      "execution_count": 1,
      "metadata": {
        "colab": {
          "base_uri": "https://localhost:8080/"
        },
        "id": "H_7-HawxBAsG",
        "outputId": "18a67b75-d1c6-4c83-e13a-f4b18e6f8391"
      },
      "outputs": [
        {
          "name": "stdout",
          "output_type": "stream",
          "text": [
            "Mounted at /content/drive\n"
          ]
        }
      ],
      "source": [
        "from google.colab import drive\n",
        "drive.mount('/content/drive')  "
      ]
    },
    {
      "cell_type": "markdown",
      "metadata": {
        "id": "PW_oTEpuAwwC"
      },
      "source": [
        "# Labeling the Handwriting Data"
      ]
    },
    {
      "cell_type": "code",
      "execution_count": 2,
      "metadata": {
        "colab": {
          "base_uri": "https://localhost:8080/"
        },
        "id": "_wiJ2_NjsWD7",
        "outputId": "ac97845a-ffff-43ea-b3b9-4bdb6855d943"
      },
      "outputs": [
        {
          "name": "stdout",
          "output_type": "stream",
          "text": [
            "Training dataset saved to /content/drive/MyDrive/Research_Dysgraphia/training_dataset.csv\n",
            "Testing dataset saved to /content/drive/MyDrive/Research_Dysgraphia/testing_dataset.csv\n"
          ]
        }
      ],
      "source": [
        "import os\n",
        "import pandas as pd\n",
        "from sklearn.model_selection import train_test_split\n",
        "\n",
        "# Define the paths to your image folders\n",
        "dysgraphic_folder = '/content/drive/MyDrive/Research_Dysgraphia /Preprocessed_Dysgraphic_Words'\n",
        "non_dysgraphic_folder = '/content/drive/MyDrive/Research_Dysgraphia /preprocessed_Non_Dysgraphic_Letters'\n",
        "\n",
        "def get_image_paths_and_labels(folder_path, label):\n",
        "    image_paths = []\n",
        "    labels = []\n",
        "    for filename in os.listdir(folder_path):\n",
        "        if filename.lower().endswith((\".png\", \".jpg\", \".jpeg\", \".bmp\", \".tif\", \".tiff\", \".gif\")):\n",
        "            image_paths.append(os.path.join(folder_path, filename))\n",
        "            labels.append(label)\n",
        "    return image_paths, labels\n",
        "\n",
        "# Get dysgraphic image paths and labels\n",
        "dysgraphic_image_paths, dysgraphic_labels = get_image_paths_and_labels(dysgraphic_folder, label=1)\n",
        "\n",
        "# Get non-dysgraphic image paths and labels\n",
        "non_dysgraphic_image_paths, non_dysgraphic_labels = get_image_paths_and_labels(non_dysgraphic_folder, label=0)\n",
        "\n",
        "# Combine the paths and labels\n",
        "image_paths = dysgraphic_image_paths + non_dysgraphic_image_paths\n",
        "labels = dysgraphic_labels + non_dysgraphic_labels\n",
        "\n",
        "# Create a DataFrame to store the image paths and labels\n",
        "data = {'Image_Path': image_paths, 'Label': labels}\n",
        "df = pd.DataFrame(data)\n",
        "\n",
        "# Shuffle the DataFrame (optional but recommended)\n",
        "df = df.sample(frac=1, random_state=42).reset_index(drop=True)\n",
        "\n",
        "# Split the data into training and testing sets (80% training, 20% testing)\n",
        "train_df, test_df = train_test_split(df, test_size=0.2, random_state=42, stratify=df['Label'])\n",
        "\n",
        "# Save the training set to a CSV file\n",
        "train_csv_path = '/content/drive/MyDrive/Research_Dysgraphia/training_dataset.csv'\n",
        "train_df.to_csv(train_csv_path, index=False)\n",
        "\n",
        "# Save the testing set to a CSV file\n",
        "test_csv_path = '/content/drive/MyDrive/Research_Dysgraphia/testing_dataset.csv'\n",
        "test_df.to_csv(test_csv_path, index=False)\n",
        "\n",
        "print(f\"Training dataset saved to {train_csv_path}\")\n",
        "print(f\"Testing dataset saved to {test_csv_path}\")\n"
      ]
    },
    {
      "cell_type": "markdown",
      "metadata": {
        "id": "Wz9bwr-qIzw4"
      },
      "source": [
        "# Train the model with CNN\n"
      ]
    },
    {
      "cell_type": "code",
      "execution_count": 38,
      "metadata": {
        "colab": {
          "base_uri": "https://localhost:8080/"
        },
        "id": "MNsTfh6I_YPQ",
        "outputId": "02fdced6-bccd-4bec-cfaa-e65fecabee9c"
      },
      "outputs": [
        {
          "name": "stdout",
          "output_type": "stream",
          "text": [
            "Fold 1 - Class distribution before oversampling: {0: 196, 1: 46}\n",
            "Fold 1 - Class distribution after oversampling: {0: 196, 1: 196}\n",
            "Found 392 validated image filenames belonging to 2 classes.\n",
            "Found 61 validated image filenames belonging to 2 classes.\n",
            "Epoch 1/30\n"
          ]
        },
        {
          "name": "stderr",
          "output_type": "stream",
          "text": [
            "/usr/local/lib/python3.10/dist-packages/keras/src/trainers/data_adapters/py_dataset_adapter.py:121: UserWarning: Your `PyDataset` class should call `super().__init__(**kwargs)` in its constructor. `**kwargs` can include `workers`, `use_multiprocessing`, `max_queue_size`. Do not pass these arguments to `fit()`, as they will be ignored.\n",
            "  self._warn_if_super_not_called()\n"
          ]
        },
        {
          "name": "stdout",
          "output_type": "stream",
          "text": [
            "\u001b[1m24/24\u001b[0m \u001b[32m━━━━━━━━━━━━━━━━━━━━\u001b[0m\u001b[37m\u001b[0m \u001b[1m39s\u001b[0m 764ms/step - accuracy: 0.5072 - loss: 23.7396 - precision: 0.4913 - recall: 0.5236 - val_accuracy: 0.2083 - val_loss: 23.4435 - val_precision: 0.2083 - val_recall: 1.0000 - learning_rate: 5.0000e-06\n",
            "Epoch 2/30\n",
            "\u001b[1m 1/24\u001b[0m \u001b[37m━━━━━━━━━━━━━━━━━━━━\u001b[0m \u001b[1m0s\u001b[0m 17ms/step - accuracy: 0.5625 - loss: 23.5896 - precision: 0.5000 - recall: 0.7143"
          ]
        },
        {
          "name": "stderr",
          "output_type": "stream",
          "text": [
            "/usr/lib/python3.10/contextlib.py:153: UserWarning: Your input ran out of data; interrupting training. Make sure that your dataset or generator can generate at least `steps_per_epoch * epochs` batches. You may need to use the `.repeat()` function when building your dataset.\n",
            "  self.gen.throw(typ, value, traceback)\n"
          ]
        },
        {
          "name": "stdout",
          "output_type": "stream",
          "text": [
            "\b\b\b\b\b\b\b\b\b\b\b\b\b\b\b\b\b\b\b\b\b\b\b\b\b\b\b\b\b\b\b\b\b\b\b\b\b\b\b\b\b\b\b\b\b\b\b\b\b\b\b\b\b\b\b\b\b\b\b\b\b\b\b\b\b\b\b\b\b\b\b\b\b\b\b\b\b\b\b\b\b\b\b\b\b\b\b\b\b\b\b\b\b\b\b\b\b\b\b\b\b\b\b\b\b\b\b\b\b\b\b\r\u001b[1m24/24\u001b[0m \u001b[32m━━━━━━━━━━━━━━━━━━━━\u001b[0m\u001b[37m\u001b[0m \u001b[1m2s\u001b[0m 66ms/step - accuracy: 0.5625 - loss: 23.5896 - precision: 0.5000 - recall: 0.7143 - val_accuracy: 0.1538 - val_loss: 23.4550 - val_precision: 0.1538 - val_recall: 1.0000 - learning_rate: 5.0000e-06\n",
            "Epoch 3/30\n",
            "\u001b[1m24/24\u001b[0m \u001b[32m━━━━━━━━━━━━━━━━━━━━\u001b[0m\u001b[37m\u001b[0m \u001b[1m6s\u001b[0m 217ms/step - accuracy: 0.5882 - loss: 23.5375 - precision: 0.6155 - recall: 0.5911 - val_accuracy: 0.2083 - val_loss: 23.3797 - val_precision: 0.2083 - val_recall: 1.0000 - learning_rate: 5.0000e-06\n",
            "Epoch 4/30\n",
            "\u001b[1m24/24\u001b[0m \u001b[32m━━━━━━━━━━━━━━━━━━━━\u001b[0m\u001b[37m\u001b[0m \u001b[1m0s\u001b[0m 1ms/step - accuracy: 0.6875 - loss: 23.5105 - precision: 0.7143 - recall: 0.6250 - val_accuracy: 0.1538 - val_loss: 23.3844 - val_precision: 0.1538 - val_recall: 1.0000 - learning_rate: 5.0000e-06\n",
            "Epoch 5/30\n",
            "\u001b[1m24/24\u001b[0m \u001b[32m━━━━━━━━━━━━━━━━━━━━\u001b[0m\u001b[37m\u001b[0m \u001b[1m8s\u001b[0m 218ms/step - accuracy: 0.5944 - loss: 23.4843 - precision: 0.5750 - recall: 0.6578 - val_accuracy: 0.2083 - val_loss: 23.3554 - val_precision: 0.1957 - val_recall: 0.9000 - learning_rate: 5.0000e-06\n",
            "Epoch 6/30\n",
            "\u001b[1m24/24\u001b[0m \u001b[32m━━━━━━━━━━━━━━━━━━━━\u001b[0m\u001b[37m\u001b[0m \u001b[1m3s\u001b[0m 136ms/step - accuracy: 0.6250 - loss: 23.4536 - precision: 0.5556 - recall: 0.7143 - val_accuracy: 0.1538 - val_loss: 23.3472 - val_precision: 0.1538 - val_recall: 1.0000 - learning_rate: 5.0000e-06\n",
            "Epoch 7/30\n",
            "\u001b[1m24/24\u001b[0m \u001b[32m━━━━━━━━━━━━━━━━━━━━\u001b[0m\u001b[37m\u001b[0m \u001b[1m8s\u001b[0m 223ms/step - accuracy: 0.6471 - loss: 23.3865 - precision: 0.6142 - recall: 0.6561 - val_accuracy: 0.2292 - val_loss: 23.3287 - val_precision: 0.2128 - val_recall: 1.0000 - learning_rate: 5.0000e-06\n",
            "Epoch 8/30\n",
            "\u001b[1m24/24\u001b[0m \u001b[32m━━━━━━━━━━━━━━━━━━━━\u001b[0m\u001b[37m\u001b[0m \u001b[1m3s\u001b[0m 136ms/step - accuracy: 0.6250 - loss: 23.2033 - precision: 0.7143 - recall: 0.5556 - val_accuracy: 0.1538 - val_loss: 23.3092 - val_precision: 0.1538 - val_recall: 1.0000 - learning_rate: 5.0000e-06\n",
            "Epoch 9/30\n",
            "\u001b[1m24/24\u001b[0m \u001b[32m━━━━━━━━━━━━━━━━━━━━\u001b[0m\u001b[37m\u001b[0m \u001b[1m7s\u001b[0m 213ms/step - accuracy: 0.6781 - loss: 23.1601 - precision: 0.6909 - recall: 0.6628 - val_accuracy: 0.3125 - val_loss: 23.2366 - val_precision: 0.2195 - val_recall: 0.9000 - learning_rate: 5.0000e-06\n",
            "Epoch 10/30\n",
            "\u001b[1m24/24\u001b[0m \u001b[32m━━━━━━━━━━━━━━━━━━━━\u001b[0m\u001b[37m\u001b[0m \u001b[1m5s\u001b[0m 205ms/step - accuracy: 0.5000 - loss: 23.6258 - precision: 0.2857 - recall: 0.4000 - val_accuracy: 0.3077 - val_loss: 23.1882 - val_precision: 0.1111 - val_recall: 0.5000 - learning_rate: 5.0000e-06\n",
            "Epoch 11/30\n",
            "\u001b[1m24/24\u001b[0m \u001b[32m━━━━━━━━━━━━━━━━━━━━\u001b[0m\u001b[37m\u001b[0m \u001b[1m7s\u001b[0m 217ms/step - accuracy: 0.7355 - loss: 23.0712 - precision: 0.7455 - recall: 0.7065 - val_accuracy: 0.5000 - val_loss: 23.0930 - val_precision: 0.2083 - val_recall: 0.5000 - learning_rate: 5.0000e-06\n",
            "Epoch 12/30\n",
            "\u001b[1m24/24\u001b[0m \u001b[32m━━━━━━━━━━━━━━━━━━━━\u001b[0m\u001b[37m\u001b[0m \u001b[1m5s\u001b[0m 218ms/step - accuracy: 0.6250 - loss: 23.1781 - precision: 0.3333 - recall: 0.5000 - val_accuracy: 0.8462 - val_loss: 23.0153 - val_precision: 0.5000 - val_recall: 1.0000 - learning_rate: 5.0000e-06\n",
            "Epoch 13/30\n",
            "\u001b[1m24/24\u001b[0m \u001b[32m━━━━━━━━━━━━━━━━━━━━\u001b[0m\u001b[37m\u001b[0m \u001b[1m6s\u001b[0m 217ms/step - accuracy: 0.7438 - loss: 22.9633 - precision: 0.7382 - recall: 0.7599 - val_accuracy: 0.6875 - val_loss: 22.9437 - val_precision: 0.3077 - val_recall: 0.4000 - learning_rate: 5.0000e-06\n",
            "Epoch 14/30\n",
            "\u001b[1m24/24\u001b[0m \u001b[32m━━━━━━━━━━━━━━━━━━━━\u001b[0m\u001b[37m\u001b[0m \u001b[1m3s\u001b[0m 143ms/step - accuracy: 0.8125 - loss: 22.7445 - precision: 1.0000 - recall: 0.5714 - val_accuracy: 0.8462 - val_loss: 22.8592 - val_precision: 0.5000 - val_recall: 0.5000 - learning_rate: 5.0000e-06\n",
            "Epoch 15/30\n",
            "\u001b[1m24/24\u001b[0m \u001b[32m━━━━━━━━━━━━━━━━━━━━\u001b[0m\u001b[37m\u001b[0m \u001b[1m7s\u001b[0m 219ms/step - accuracy: 0.6892 - loss: 23.0366 - precision: 0.6540 - recall: 0.7590 - val_accuracy: 0.7917 - val_loss: 22.8236 - val_precision: 0.5000 - val_recall: 0.4000 - learning_rate: 5.0000e-06\n",
            "Epoch 16/30\n",
            "\u001b[1m24/24\u001b[0m \u001b[32m━━━━━━━━━━━━━━━━━━━━\u001b[0m\u001b[37m\u001b[0m \u001b[1m3s\u001b[0m 139ms/step - accuracy: 0.6250 - loss: 23.3217 - precision: 0.7143 - recall: 0.5556 - val_accuracy: 0.8462 - val_loss: 22.7206 - val_precision: 0.5000 - val_recall: 0.5000 - learning_rate: 5.0000e-06\n",
            "Epoch 17/30\n",
            "\u001b[1m24/24\u001b[0m \u001b[32m━━━━━━━━━━━━━━━━━━━━\u001b[0m\u001b[37m\u001b[0m \u001b[1m7s\u001b[0m 213ms/step - accuracy: 0.7440 - loss: 22.8867 - precision: 0.7399 - recall: 0.7636 - val_accuracy: 0.8125 - val_loss: 22.7104 - val_precision: 0.5714 - val_recall: 0.4000 - learning_rate: 5.0000e-06\n",
            "Epoch 18/30\n",
            "\u001b[1m24/24\u001b[0m \u001b[32m━━━━━━━━━━━━━━━━━━━━\u001b[0m\u001b[37m\u001b[0m \u001b[1m3s\u001b[0m 135ms/step - accuracy: 0.5625 - loss: 22.9637 - precision: 0.4444 - recall: 0.6667 - val_accuracy: 0.8462 - val_loss: 22.5904 - val_precision: 0.5000 - val_recall: 0.5000 - learning_rate: 5.0000e-06\n",
            "Epoch 19/30\n",
            "\u001b[1m24/24\u001b[0m \u001b[32m━━━━━━━━━━━━━━━━━━━━\u001b[0m\u001b[37m\u001b[0m \u001b[1m4s\u001b[0m 80ms/step - accuracy: 0.7397 - loss: 22.8360 - precision: 0.7437 - recall: 0.7558 - val_accuracy: 0.8333 - val_loss: 22.5919 - val_precision: 0.6667 - val_recall: 0.4000 - learning_rate: 5.0000e-06\n",
            "Epoch 20/30\n",
            "\u001b[1m24/24\u001b[0m \u001b[32m━━━━━━━━━━━━━━━━━━━━\u001b[0m\u001b[37m\u001b[0m \u001b[1m3s\u001b[0m 142ms/step - accuracy: 0.7500 - loss: 22.6641 - precision: 0.7778 - recall: 0.7778 - val_accuracy: 0.8462 - val_loss: 22.4863 - val_precision: 0.5000 - val_recall: 0.5000 - learning_rate: 5.0000e-06\n",
            "Epoch 21/30\n",
            "\u001b[1m24/24\u001b[0m \u001b[32m━━━━━━━━━━━━━━━━━━━━\u001b[0m\u001b[37m\u001b[0m \u001b[1m4s\u001b[0m 82ms/step - accuracy: 0.7519 - loss: 22.7872 - precision: 0.7194 - recall: 0.7915 - val_accuracy: 0.8333 - val_loss: 22.4957 - val_precision: 0.6667 - val_recall: 0.4000 - learning_rate: 5.0000e-06\n",
            "Epoch 22/30\n",
            "\u001b[1m24/24\u001b[0m \u001b[32m━━━━━━━━━━━━━━━━━━━━\u001b[0m\u001b[37m\u001b[0m \u001b[1m3s\u001b[0m 142ms/step - accuracy: 0.7500 - loss: 22.8164 - precision: 0.7500 - recall: 0.7500 - val_accuracy: 0.8462 - val_loss: 22.3989 - val_precision: 0.5000 - val_recall: 0.5000 - learning_rate: 5.0000e-06\n",
            "Epoch 23/30\n",
            "\u001b[1m24/24\u001b[0m \u001b[32m━━━━━━━━━━━━━━━━━━━━\u001b[0m\u001b[37m\u001b[0m \u001b[1m4s\u001b[0m 80ms/step - accuracy: 0.7735 - loss: 22.6501 - precision: 0.7744 - recall: 0.7832 - val_accuracy: 0.8542 - val_loss: 22.4117 - val_precision: 0.8000 - val_recall: 0.4000 - learning_rate: 5.0000e-06\n",
            "Epoch 24/30\n",
            "\u001b[1m24/24\u001b[0m \u001b[32m━━━━━━━━━━━━━━━━━━━━\u001b[0m\u001b[37m\u001b[0m \u001b[1m5s\u001b[0m 199ms/step - accuracy: 0.7500 - loss: 22.6577 - precision: 0.7000 - recall: 0.8750 - val_accuracy: 0.8462 - val_loss: 22.3264 - val_precision: 0.5000 - val_recall: 0.5000 - learning_rate: 5.0000e-06\n",
            "Epoch 25/30\n",
            "\u001b[1m24/24\u001b[0m \u001b[32m━━━━━━━━━━━━━━━━━━━━\u001b[0m\u001b[37m\u001b[0m \u001b[1m3s\u001b[0m 82ms/step - accuracy: 0.7908 - loss: 22.5711 - precision: 0.7258 - recall: 0.8690 - val_accuracy: 0.8333 - val_loss: 22.3412 - val_precision: 0.6667 - val_recall: 0.4000 - learning_rate: 5.0000e-06\n",
            "Epoch 26/30\n",
            "\u001b[1m24/24\u001b[0m \u001b[32m━━━━━━━━━━━━━━━━━━━━\u001b[0m\u001b[37m\u001b[0m \u001b[1m5s\u001b[0m 217ms/step - accuracy: 0.7500 - loss: 22.4239 - precision: 0.8889 - recall: 0.7273 - val_accuracy: 0.8462 - val_loss: 22.2624 - val_precision: 0.5000 - val_recall: 0.5000 - learning_rate: 5.0000e-06\n",
            "Epoch 27/30\n",
            "\u001b[1m24/24\u001b[0m \u001b[32m━━━━━━━━━━━━━━━━━━━━\u001b[0m\u001b[37m\u001b[0m \u001b[1m3s\u001b[0m 81ms/step - accuracy: 0.7804 - loss: 22.4679 - precision: 0.7946 - recall: 0.7798 - val_accuracy: 0.8542 - val_loss: 22.2809 - val_precision: 0.7143 - val_recall: 0.5000 - learning_rate: 5.0000e-06\n",
            "Epoch 28/30\n",
            "\u001b[1m24/24\u001b[0m \u001b[32m━━━━━━━━━━━━━━━━━━━━\u001b[0m\u001b[37m\u001b[0m \u001b[1m3s\u001b[0m 139ms/step - accuracy: 0.8125 - loss: 22.4299 - precision: 0.8571 - recall: 0.7500 - val_accuracy: 0.8462 - val_loss: 22.1954 - val_precision: 0.5000 - val_recall: 0.5000 - learning_rate: 5.0000e-06\n",
            "Epoch 29/30\n",
            "\u001b[1m24/24\u001b[0m \u001b[32m━━━━━━━━━━━━━━━━━━━━\u001b[0m\u001b[37m\u001b[0m \u001b[1m4s\u001b[0m 84ms/step - accuracy: 0.7835 - loss: 22.4172 - precision: 0.7840 - recall: 0.7913 - val_accuracy: 0.8542 - val_loss: 22.2147 - val_precision: 0.7143 - val_recall: 0.5000 - learning_rate: 5.0000e-06\n",
            "Epoch 30/30\n",
            "\u001b[1m24/24\u001b[0m \u001b[32m━━━━━━━━━━━━━━━━━━━━\u001b[0m\u001b[37m\u001b[0m \u001b[1m3s\u001b[0m 136ms/step - accuracy: 0.6250 - loss: 22.8917 - precision: 0.7500 - recall: 0.6000 - val_accuracy: 0.8462 - val_loss: 22.1370 - val_precision: 0.5000 - val_recall: 0.5000 - learning_rate: 5.0000e-06\n",
            "Fold 1 - Accuracy: 0.8461538553237915, Precision: 0.5, Recall: 0.5, F1 Score: 0.49999995000000497\n",
            "Fold 2 - Class distribution before oversampling: {0: 196, 1: 46}\n",
            "Fold 2 - Class distribution after oversampling: {0: 196, 1: 196}\n",
            "Found 392 validated image filenames belonging to 2 classes.\n",
            "Found 61 validated image filenames belonging to 2 classes.\n",
            "Epoch 1/30\n"
          ]
        },
        {
          "name": "stderr",
          "output_type": "stream",
          "text": [
            "/usr/local/lib/python3.10/dist-packages/keras/src/trainers/data_adapters/py_dataset_adapter.py:121: UserWarning: Your `PyDataset` class should call `super().__init__(**kwargs)` in its constructor. `**kwargs` can include `workers`, `use_multiprocessing`, `max_queue_size`. Do not pass these arguments to `fit()`, as they will be ignored.\n",
            "  self._warn_if_super_not_called()\n"
          ]
        },
        {
          "name": "stdout",
          "output_type": "stream",
          "text": [
            "\u001b[1m24/24\u001b[0m \u001b[32m━━━━━━━━━━━━━━━━━━━━\u001b[0m\u001b[37m\u001b[0m \u001b[1m25s\u001b[0m 335ms/step - accuracy: 0.4989 - loss: 23.8082 - precision: 0.4705 - recall: 0.4646 - val_accuracy: 0.2292 - val_loss: 23.5834 - val_precision: 0.2292 - val_recall: 1.0000 - learning_rate: 5.0000e-06\n",
            "Epoch 2/30\n",
            "\u001b[1m 1/24\u001b[0m \u001b[37m━━━━━━━━━━━━━━━━━━━━\u001b[0m \u001b[1m2:08\u001b[0m 6s/step - accuracy: 0.6250 - loss: 23.4943 - precision: 1.0000 - recall: 0.5000"
          ]
        },
        {
          "name": "stderr",
          "output_type": "stream",
          "text": [
            "/usr/lib/python3.10/contextlib.py:153: UserWarning: Your input ran out of data; interrupting training. Make sure that your dataset or generator can generate at least `steps_per_epoch * epochs` batches. You may need to use the `.repeat()` function when building your dataset.\n",
            "  self.gen.throw(typ, value, traceback)\n"
          ]
        },
        {
          "name": "stdout",
          "output_type": "stream",
          "text": [
            "\b\b\b\b\b\b\b\b\b\b\b\b\b\b\b\b\b\b\b\b\b\b\b\b\b\b\b\b\b\b\b\b\b\b\b\b\b\b\b\b\b\b\b\b\b\b\b\b\b\b\b\b\b\b\b\b\b\b\b\b\b\b\b\b\b\b\b\b\b\b\b\b\b\b\b\b\b\b\b\b\b\b\b\b\b\b\b\b\b\b\b\b\b\b\b\b\b\b\b\b\b\b\b\b\b\b\b\b\b\b\b\r\u001b[1m24/24\u001b[0m \u001b[32m━━━━━━━━━━━━━━━━━━━━\u001b[0m\u001b[37m\u001b[0m \u001b[1m7s\u001b[0m 59ms/step - accuracy: 0.6250 - loss: 23.4943 - precision: 1.0000 - recall: 0.5000 - val_accuracy: 0.0769 - val_loss: 23.6989 - val_precision: 0.0769 - val_recall: 1.0000 - learning_rate: 5.0000e-06\n",
            "Epoch 3/30\n",
            "\u001b[1m24/24\u001b[0m \u001b[32m━━━━━━━━━━━━━━━━━━━━\u001b[0m\u001b[37m\u001b[0m \u001b[1m5s\u001b[0m 184ms/step - accuracy: 0.4686 - loss: 23.7383 - precision: 0.4922 - recall: 0.4239 - val_accuracy: 0.2292 - val_loss: 23.4275 - val_precision: 0.2292 - val_recall: 1.0000 - learning_rate: 5.0000e-06\n",
            "Epoch 4/30\n",
            "\u001b[1m24/24\u001b[0m \u001b[32m━━━━━━━━━━━━━━━━━━━━\u001b[0m\u001b[37m\u001b[0m \u001b[1m0s\u001b[0m 2ms/step - accuracy: 0.2500 - loss: 24.2802 - precision: 0.2000 - recall: 0.1111 - val_accuracy: 0.0769 - val_loss: 23.4951 - val_precision: 0.0769 - val_recall: 1.0000 - learning_rate: 5.0000e-06\n",
            "Epoch 5/30\n",
            "\u001b[1m24/24\u001b[0m \u001b[32m━━━━━━━━━━━━━━━━━━━━\u001b[0m\u001b[37m\u001b[0m \u001b[1m5s\u001b[0m 173ms/step - accuracy: 0.5124 - loss: 23.6320 - precision: 0.5021 - recall: 0.5517 - val_accuracy: 0.1875 - val_loss: 23.2917 - val_precision: 0.1957 - val_recall: 0.8182 - learning_rate: 5.0000e-06\n",
            "Epoch 6/30\n",
            "\u001b[1m24/24\u001b[0m \u001b[32m━━━━━━━━━━━━━━━━━━━━\u001b[0m\u001b[37m\u001b[0m \u001b[1m0s\u001b[0m 2ms/step - accuracy: 0.6875 - loss: 23.1073 - precision: 0.7000 - recall: 0.7778 - val_accuracy: 0.1538 - val_loss: 23.3065 - val_precision: 0.0833 - val_recall: 1.0000 - learning_rate: 5.0000e-06\n",
            "Epoch 7/30\n",
            "\u001b[1m24/24\u001b[0m \u001b[32m━━━━━━━━━━━━━━━━━━━━\u001b[0m\u001b[37m\u001b[0m \u001b[1m5s\u001b[0m 179ms/step - accuracy: 0.5974 - loss: 23.3083 - precision: 0.6007 - recall: 0.5881 - val_accuracy: 0.4375 - val_loss: 23.1909 - val_precision: 0.1923 - val_recall: 0.4545 - learning_rate: 5.0000e-06\n",
            "Epoch 8/30\n",
            "\u001b[1m24/24\u001b[0m \u001b[32m━━━━━━━━━━━━━━━━━━━━\u001b[0m\u001b[37m\u001b[0m \u001b[1m2s\u001b[0m 101ms/step - accuracy: 0.6250 - loss: 23.0661 - precision: 0.5000 - recall: 0.8333 - val_accuracy: 0.6923 - val_loss: 23.1620 - val_precision: 0.2000 - val_recall: 1.0000 - learning_rate: 5.0000e-06\n",
            "Epoch 9/30\n",
            "\u001b[1m24/24\u001b[0m \u001b[32m━━━━━━━━━━━━━━━━━━━━\u001b[0m\u001b[37m\u001b[0m \u001b[1m6s\u001b[0m 185ms/step - accuracy: 0.6340 - loss: 23.1766 - precision: 0.6383 - recall: 0.6629 - val_accuracy: 0.5625 - val_loss: 23.1045 - val_precision: 0.2222 - val_recall: 0.3636 - learning_rate: 5.0000e-06\n",
            "Epoch 10/30\n",
            "\u001b[1m24/24\u001b[0m \u001b[32m━━━━━━━━━━━━━━━━━━━━\u001b[0m\u001b[37m\u001b[0m \u001b[1m2s\u001b[0m 100ms/step - accuracy: 0.6875 - loss: 23.2735 - precision: 0.7000 - recall: 0.7778 - val_accuracy: 0.8462 - val_loss: 23.0351 - val_precision: 0.3333 - val_recall: 1.0000 - learning_rate: 5.0000e-06\n",
            "Epoch 11/30\n",
            "\u001b[1m24/24\u001b[0m \u001b[32m━━━━━━━━━━━━━━━━━━━━\u001b[0m\u001b[37m\u001b[0m \u001b[1m7s\u001b[0m 181ms/step - accuracy: 0.6073 - loss: 23.2043 - precision: 0.6517 - recall: 0.6253 - val_accuracy: 0.6250 - val_loss: 23.0209 - val_precision: 0.2941 - val_recall: 0.4545 - learning_rate: 5.0000e-06\n",
            "Epoch 12/30\n",
            "\u001b[1m24/24\u001b[0m \u001b[32m━━━━━━━━━━━━━━━━━━━━\u001b[0m\u001b[37m\u001b[0m \u001b[1m2s\u001b[0m 96ms/step - accuracy: 0.5625 - loss: 23.1691 - precision: 0.4444 - recall: 0.6667 - val_accuracy: 0.8462 - val_loss: 22.9167 - val_precision: 0.3333 - val_recall: 1.0000 - learning_rate: 5.0000e-06\n",
            "Epoch 13/30\n",
            "\u001b[1m24/24\u001b[0m \u001b[32m━━━━━━━━━━━━━━━━━━━━\u001b[0m\u001b[37m\u001b[0m \u001b[1m4s\u001b[0m 81ms/step - accuracy: 0.6302 - loss: 23.1520 - precision: 0.6096 - recall: 0.6416 - val_accuracy: 0.6458 - val_loss: 22.9232 - val_precision: 0.3333 - val_recall: 0.5455 - learning_rate: 5.0000e-06\n",
            "Epoch 14/30\n",
            "\u001b[1m24/24\u001b[0m \u001b[32m━━━━━━━━━━━━━━━━━━━━\u001b[0m\u001b[37m\u001b[0m \u001b[1m2s\u001b[0m 98ms/step - accuracy: 0.6250 - loss: 23.0282 - precision: 0.5000 - recall: 0.8333 - val_accuracy: 0.9231 - val_loss: 22.8141 - val_precision: 0.5000 - val_recall: 1.0000 - learning_rate: 5.0000e-06\n",
            "Epoch 15/30\n",
            "\u001b[1m24/24\u001b[0m \u001b[32m━━━━━━━━━━━━━━━━━━━━\u001b[0m\u001b[37m\u001b[0m \u001b[1m3s\u001b[0m 82ms/step - accuracy: 0.6922 - loss: 23.0117 - precision: 0.6986 - recall: 0.6571 - val_accuracy: 0.7708 - val_loss: 22.8179 - val_precision: 0.5000 - val_recall: 0.4545 - learning_rate: 5.0000e-06\n",
            "Epoch 16/30\n",
            "\u001b[1m24/24\u001b[0m \u001b[32m━━━━━━━━━━━━━━━━━━━━\u001b[0m\u001b[37m\u001b[0m \u001b[1m2s\u001b[0m 96ms/step - accuracy: 0.6250 - loss: 22.8544 - precision: 0.2500 - recall: 1.0000 - val_accuracy: 1.0000 - val_loss: 22.6700 - val_precision: 1.0000 - val_recall: 1.0000 - learning_rate: 5.0000e-06\n",
            "Epoch 17/30\n",
            "\u001b[1m24/24\u001b[0m \u001b[32m━━━━━━━━━━━━━━━━━━━━\u001b[0m\u001b[37m\u001b[0m \u001b[1m3s\u001b[0m 81ms/step - accuracy: 0.6693 - loss: 22.9173 - precision: 0.6826 - recall: 0.6467 - val_accuracy: 0.8542 - val_loss: 22.7128 - val_precision: 0.7500 - val_recall: 0.5455 - learning_rate: 5.0000e-06\n",
            "Epoch 18/30\n",
            "\u001b[1m24/24\u001b[0m \u001b[32m━━━━━━━━━━━━━━━━━━━━\u001b[0m\u001b[37m\u001b[0m \u001b[1m2s\u001b[0m 95ms/step - accuracy: 0.8750 - loss: 22.5366 - precision: 0.8571 - recall: 0.8571 - val_accuracy: 1.0000 - val_loss: 22.5363 - val_precision: 1.0000 - val_recall: 1.0000 - learning_rate: 5.0000e-06\n",
            "Epoch 19/30\n",
            "\u001b[1m24/24\u001b[0m \u001b[32m━━━━━━━━━━━━━━━━━━━━\u001b[0m\u001b[37m\u001b[0m \u001b[1m3s\u001b[0m 86ms/step - accuracy: 0.7778 - loss: 22.7978 - precision: 0.8031 - recall: 0.7427 - val_accuracy: 0.8125 - val_loss: 22.6026 - val_precision: 0.6000 - val_recall: 0.5455 - learning_rate: 5.0000e-06\n",
            "Epoch 20/30\n",
            "\u001b[1m24/24\u001b[0m \u001b[32m━━━━━━━━━━━━━━━━━━━━\u001b[0m\u001b[37m\u001b[0m \u001b[1m2s\u001b[0m 96ms/step - accuracy: 0.6875 - loss: 22.9477 - precision: 0.6250 - recall: 0.7143 - val_accuracy: 1.0000 - val_loss: 22.4150 - val_precision: 1.0000 - val_recall: 1.0000 - learning_rate: 5.0000e-06\n",
            "Epoch 21/30\n",
            "\u001b[1m24/24\u001b[0m \u001b[32m━━━━━━━━━━━━━━━━━━━━\u001b[0m\u001b[37m\u001b[0m \u001b[1m3s\u001b[0m 82ms/step - accuracy: 0.7338 - loss: 22.6718 - precision: 0.7363 - recall: 0.7521 - val_accuracy: 0.8333 - val_loss: 22.4958 - val_precision: 0.6364 - val_recall: 0.6364 - learning_rate: 5.0000e-06\n",
            "Epoch 22/30\n",
            "\u001b[1m24/24\u001b[0m \u001b[32m━━━━━━━━━━━━━━━━━━━━\u001b[0m\u001b[37m\u001b[0m \u001b[1m2s\u001b[0m 96ms/step - accuracy: 0.6250 - loss: 22.7879 - precision: 0.4444 - recall: 0.8000 - val_accuracy: 1.0000 - val_loss: 22.3129 - val_precision: 1.0000 - val_recall: 1.0000 - learning_rate: 5.0000e-06\n",
            "Epoch 23/30\n",
            "\u001b[1m24/24\u001b[0m \u001b[32m━━━━━━━━━━━━━━━━━━━━\u001b[0m\u001b[37m\u001b[0m \u001b[1m3s\u001b[0m 85ms/step - accuracy: 0.7510 - loss: 22.5889 - precision: 0.7534 - recall: 0.7451 - val_accuracy: 0.8750 - val_loss: 22.3958 - val_precision: 0.7778 - val_recall: 0.6364 - learning_rate: 5.0000e-06\n",
            "Epoch 24/30\n",
            "\u001b[1m24/24\u001b[0m \u001b[32m━━━━━━━━━━━━━━━━━━━━\u001b[0m\u001b[37m\u001b[0m \u001b[1m2s\u001b[0m 95ms/step - accuracy: 0.5625 - loss: 22.6535 - precision: 0.5000 - recall: 0.5714 - val_accuracy: 1.0000 - val_loss: 22.2151 - val_precision: 1.0000 - val_recall: 1.0000 - learning_rate: 5.0000e-06\n",
            "Epoch 25/30\n",
            "\u001b[1m24/24\u001b[0m \u001b[32m━━━━━━━━━━━━━━━━━━━━\u001b[0m\u001b[37m\u001b[0m \u001b[1m3s\u001b[0m 80ms/step - accuracy: 0.7422 - loss: 22.5727 - precision: 0.7510 - recall: 0.7294 - val_accuracy: 0.8750 - val_loss: 22.3056 - val_precision: 0.7778 - val_recall: 0.6364 - learning_rate: 5.0000e-06\n",
            "Epoch 26/30\n",
            "\u001b[1m24/24\u001b[0m \u001b[32m━━━━━━━━━━━━━━━━━━━━\u001b[0m\u001b[37m\u001b[0m \u001b[1m2s\u001b[0m 94ms/step - accuracy: 0.6875 - loss: 22.5445 - precision: 1.0000 - recall: 0.6154 - val_accuracy: 1.0000 - val_loss: 22.1259 - val_precision: 1.0000 - val_recall: 1.0000 - learning_rate: 5.0000e-06\n",
            "Epoch 27/30\n",
            "\u001b[1m24/24\u001b[0m \u001b[32m━━━━━━━━━━━━━━━━━━━━\u001b[0m\u001b[37m\u001b[0m \u001b[1m3s\u001b[0m 83ms/step - accuracy: 0.7694 - loss: 22.5499 - precision: 0.7669 - recall: 0.7645 - val_accuracy: 0.8750 - val_loss: 22.2220 - val_precision: 0.7778 - val_recall: 0.6364 - learning_rate: 5.0000e-06\n",
            "Epoch 28/30\n",
            "\u001b[1m24/24\u001b[0m \u001b[32m━━━━━━━━━━━━━━━━━━━━\u001b[0m\u001b[37m\u001b[0m \u001b[1m2s\u001b[0m 99ms/step - accuracy: 0.5625 - loss: 22.7040 - precision: 0.8000 - recall: 0.4000 - val_accuracy: 1.0000 - val_loss: 22.0451 - val_precision: 1.0000 - val_recall: 1.0000 - learning_rate: 5.0000e-06\n",
            "Epoch 29/30\n",
            "\u001b[1m24/24\u001b[0m \u001b[32m━━━━━━━━━━━━━━━━━━━━\u001b[0m\u001b[37m\u001b[0m \u001b[1m3s\u001b[0m 82ms/step - accuracy: 0.7712 - loss: 22.3945 - precision: 0.7617 - recall: 0.7940 - val_accuracy: 0.8750 - val_loss: 22.1521 - val_precision: 0.8571 - val_recall: 0.5455 - learning_rate: 5.0000e-06\n",
            "Epoch 30/30\n",
            "\u001b[1m24/24\u001b[0m \u001b[32m━━━━━━━━━━━━━━━━━━━━\u001b[0m\u001b[37m\u001b[0m \u001b[1m2s\u001b[0m 95ms/step - accuracy: 0.6875 - loss: 22.8212 - precision: 0.7143 - recall: 0.6250 - val_accuracy: 1.0000 - val_loss: 21.9638 - val_precision: 1.0000 - val_recall: 1.0000 - learning_rate: 5.0000e-06\n",
            "Fold 2 - Accuracy: 1.0, Precision: 1.0, Recall: 1.0, F1 Score: 0.9999999500000026\n",
            "Fold 3 - Class distribution before oversampling: {0: 196, 1: 46}\n",
            "Fold 3 - Class distribution after oversampling: {0: 196, 1: 196}\n",
            "Found 392 validated image filenames belonging to 2 classes.\n",
            "Found 61 validated image filenames belonging to 2 classes.\n",
            "Epoch 1/30\n"
          ]
        },
        {
          "name": "stderr",
          "output_type": "stream",
          "text": [
            "/usr/local/lib/python3.10/dist-packages/keras/src/trainers/data_adapters/py_dataset_adapter.py:121: UserWarning: Your `PyDataset` class should call `super().__init__(**kwargs)` in its constructor. `**kwargs` can include `workers`, `use_multiprocessing`, `max_queue_size`. Do not pass these arguments to `fit()`, as they will be ignored.\n",
            "  self._warn_if_super_not_called()\n"
          ]
        },
        {
          "name": "stdout",
          "output_type": "stream",
          "text": [
            "\u001b[1m24/24\u001b[0m \u001b[32m━━━━━━━━━━━━━━━━━━━━\u001b[0m\u001b[37m\u001b[0m \u001b[1m26s\u001b[0m 332ms/step - accuracy: 0.5828 - loss: 23.5968 - precision: 0.5759 - recall: 0.5604 - val_accuracy: 0.8125 - val_loss: 23.2880 - val_precision: 0.0000e+00 - val_recall: 0.0000e+00 - learning_rate: 5.0000e-06\n",
            "Epoch 2/30\n",
            "\u001b[1m 1/24\u001b[0m \u001b[37m━━━━━━━━━━━━━━━━━━━━\u001b[0m \u001b[1m2:03\u001b[0m 5s/step - accuracy: 0.5000 - loss: 23.9884 - precision: 1.0000 - recall: 0.4286"
          ]
        },
        {
          "name": "stderr",
          "output_type": "stream",
          "text": [
            "/usr/lib/python3.10/contextlib.py:153: UserWarning: Your input ran out of data; interrupting training. Make sure that your dataset or generator can generate at least `steps_per_epoch * epochs` batches. You may need to use the `.repeat()` function when building your dataset.\n",
            "  self.gen.throw(typ, value, traceback)\n"
          ]
        },
        {
          "name": "stdout",
          "output_type": "stream",
          "text": [
            "\b\b\b\b\b\b\b\b\b\b\b\b\b\b\b\b\b\b\b\b\b\b\b\b\b\b\b\b\b\b\b\b\b\b\b\b\b\b\b\b\b\b\b\b\b\b\b\b\b\b\b\b\b\b\b\b\b\b\b\b\b\b\b\b\b\b\b\b\b\b\b\b\b\b\b\b\b\b\b\b\b\b\b\b\b\b\b\b\b\b\b\b\b\b\b\b\b\b\b\b\b\b\b\b\b\b\b\b\b\b\b\r\u001b[1m24/24\u001b[0m \u001b[32m━━━━━━━━━━━━━━━━━━━━\u001b[0m\u001b[37m\u001b[0m \u001b[1m7s\u001b[0m 63ms/step - accuracy: 0.5000 - loss: 23.9884 - precision: 1.0000 - recall: 0.4286 - val_accuracy: 0.7692 - val_loss: 23.3063 - val_precision: 0.0000e+00 - val_recall: 0.0000e+00 - learning_rate: 5.0000e-06\n",
            "Epoch 3/30\n",
            "\u001b[1m24/24\u001b[0m \u001b[32m━━━━━━━━━━━━━━━━━━━━\u001b[0m\u001b[37m\u001b[0m \u001b[1m3s\u001b[0m 88ms/step - accuracy: 0.5620 - loss: 23.5496 - precision: 0.5374 - recall: 0.5936 - val_accuracy: 0.2708 - val_loss: 23.3627 - val_precision: 0.1905 - val_recall: 0.8889 - learning_rate: 5.0000e-06\n",
            "Epoch 4/30\n",
            "\u001b[1m24/24\u001b[0m \u001b[32m━━━━━━━━━━━━━━━━━━━━\u001b[0m\u001b[37m\u001b[0m \u001b[1m0s\u001b[0m 2ms/step - accuracy: 0.6250 - loss: 23.3012 - precision: 0.6364 - recall: 0.7778 - val_accuracy: 0.2308 - val_loss: 23.3572 - val_precision: 0.1818 - val_recall: 0.6667 - learning_rate: 2.5000e-06\n",
            "Fold 3 - Accuracy: 0.23076923191547394, Precision: 0.1818181872367859, Recall: 0.6666666865348816, F1 Score: 0.28571426055576954\n",
            "Fold 4 - Class distribution before oversampling: {0: 196, 1: 47}\n",
            "Fold 4 - Class distribution after oversampling: {0: 196, 1: 196}\n",
            "Found 392 validated image filenames belonging to 2 classes.\n",
            "Found 60 validated image filenames belonging to 2 classes.\n",
            "Epoch 1/30\n"
          ]
        },
        {
          "name": "stderr",
          "output_type": "stream",
          "text": [
            "/usr/local/lib/python3.10/dist-packages/keras/src/trainers/data_adapters/py_dataset_adapter.py:121: UserWarning: Your `PyDataset` class should call `super().__init__(**kwargs)` in its constructor. `**kwargs` can include `workers`, `use_multiprocessing`, `max_queue_size`. Do not pass these arguments to `fit()`, as they will be ignored.\n",
            "  self._warn_if_super_not_called()\n"
          ]
        },
        {
          "name": "stdout",
          "output_type": "stream",
          "text": [
            "\u001b[1m24/24\u001b[0m \u001b[32m━━━━━━━━━━━━━━━━━━━━\u001b[0m\u001b[37m\u001b[0m \u001b[1m31s\u001b[0m 561ms/step - accuracy: 0.5441 - loss: 23.6457 - precision: 0.5495 - recall: 0.5453 - val_accuracy: 0.8333 - val_loss: 23.2916 - val_precision: 0.0000e+00 - val_recall: 0.0000e+00 - learning_rate: 5.0000e-06\n",
            "Epoch 2/30\n",
            "\u001b[1m 1/24\u001b[0m \u001b[37m━━━━━━━━━━━━━━━━━━━━\u001b[0m \u001b[1m0s\u001b[0m 20ms/step - accuracy: 0.7500 - loss: 23.2891 - precision: 0.8571 - recall: 0.6667"
          ]
        },
        {
          "name": "stderr",
          "output_type": "stream",
          "text": [
            "/usr/lib/python3.10/contextlib.py:153: UserWarning: Your input ran out of data; interrupting training. Make sure that your dataset or generator can generate at least `steps_per_epoch * epochs` batches. You may need to use the `.repeat()` function when building your dataset.\n",
            "  self.gen.throw(typ, value, traceback)\n"
          ]
        },
        {
          "name": "stdout",
          "output_type": "stream",
          "text": [
            "\b\b\b\b\b\b\b\b\b\b\b\b\b\b\b\b\b\b\b\b\b\b\b\b\b\b\b\b\b\b\b\b\b\b\b\b\b\b\b\b\b\b\b\b\b\b\b\b\b\b\b\b\b\b\b\b\b\b\b\b\b\b\b\b\b\b\b\b\b\b\b\b\b\b\b\b\b\b\b\b\b\b\b\b\b\b\b\b\b\b\b\b\b\b\b\b\b\b\b\b\b\b\b\b\b\b\b\b\b\b\b\r\u001b[1m24/24\u001b[0m \u001b[32m━━━━━━━━━━━━━━━━━━━━\u001b[0m\u001b[37m\u001b[0m \u001b[1m4s\u001b[0m 155ms/step - accuracy: 0.7500 - loss: 23.2891 - precision: 0.8571 - recall: 0.6667 - val_accuracy: 0.7500 - val_loss: 23.2850 - val_precision: 0.0000e+00 - val_recall: 0.0000e+00 - learning_rate: 5.0000e-06\n",
            "Epoch 3/30\n",
            "\u001b[1m24/24\u001b[0m \u001b[32m━━━━━━━━━━━━━━━━━━━━\u001b[0m\u001b[37m\u001b[0m \u001b[1m5s\u001b[0m 176ms/step - accuracy: 0.5348 - loss: 23.6845 - precision: 0.5470 - recall: 0.5434 - val_accuracy: 0.8333 - val_loss: 23.1640 - val_precision: 0.0000e+00 - val_recall: 0.0000e+00 - learning_rate: 5.0000e-06\n",
            "Epoch 4/30\n",
            "\u001b[1m24/24\u001b[0m \u001b[32m━━━━━━━━━━━━━━━━━━━━\u001b[0m\u001b[37m\u001b[0m \u001b[1m0s\u001b[0m 2ms/step - accuracy: 0.5625 - loss: 23.6224 - precision: 0.5556 - recall: 0.6250 - val_accuracy: 0.7500 - val_loss: 23.1924 - val_precision: 0.0000e+00 - val_recall: 0.0000e+00 - learning_rate: 5.0000e-06\n",
            "Epoch 5/30\n",
            "\u001b[1m24/24\u001b[0m \u001b[32m━━━━━━━━━━━━━━━━━━━━\u001b[0m\u001b[37m\u001b[0m \u001b[1m5s\u001b[0m 180ms/step - accuracy: 0.5045 - loss: 23.6679 - precision: 0.4931 - recall: 0.4934 - val_accuracy: 0.8333 - val_loss: 23.0937 - val_precision: 0.0000e+00 - val_recall: 0.0000e+00 - learning_rate: 5.0000e-06\n",
            "Epoch 6/30\n",
            "\u001b[1m24/24\u001b[0m \u001b[32m━━━━━━━━━━━━━━━━━━━━\u001b[0m\u001b[37m\u001b[0m \u001b[1m0s\u001b[0m 2ms/step - accuracy: 0.5625 - loss: 23.2832 - precision: 0.5714 - recall: 0.5000 - val_accuracy: 0.7500 - val_loss: 23.1179 - val_precision: 0.0000e+00 - val_recall: 0.0000e+00 - learning_rate: 5.0000e-06\n",
            "Epoch 7/30\n",
            "\u001b[1m24/24\u001b[0m \u001b[32m━━━━━━━━━━━━━━━━━━━━\u001b[0m\u001b[37m\u001b[0m \u001b[1m5s\u001b[0m 177ms/step - accuracy: 0.5945 - loss: 23.3310 - precision: 0.5955 - recall: 0.5785 - val_accuracy: 0.8333 - val_loss: 23.0424 - val_precision: 0.0000e+00 - val_recall: 0.0000e+00 - learning_rate: 5.0000e-06\n",
            "Epoch 8/30\n",
            "\u001b[1m24/24\u001b[0m \u001b[32m━━━━━━━━━━━━━━━━━━━━\u001b[0m\u001b[37m\u001b[0m \u001b[1m2s\u001b[0m 97ms/step - accuracy: 0.5000 - loss: 23.5806 - precision: 0.7500 - recall: 0.5000 - val_accuracy: 0.7500 - val_loss: 23.0340 - val_precision: 0.0000e+00 - val_recall: 0.0000e+00 - learning_rate: 5.0000e-06\n",
            "Epoch 9/30\n",
            "\u001b[1m24/24\u001b[0m \u001b[32m━━━━━━━━━━━━━━━━━━━━\u001b[0m\u001b[37m\u001b[0m \u001b[1m5s\u001b[0m 174ms/step - accuracy: 0.6502 - loss: 23.2073 - precision: 0.6933 - recall: 0.6100 - val_accuracy: 0.8125 - val_loss: 22.9866 - val_precision: 0.0000e+00 - val_recall: 0.0000e+00 - learning_rate: 5.0000e-06\n",
            "Epoch 10/30\n",
            "\u001b[1m24/24\u001b[0m \u001b[32m━━━━━━━━━━━━━━━━━━━━\u001b[0m\u001b[37m\u001b[0m \u001b[1m2s\u001b[0m 96ms/step - accuracy: 0.6250 - loss: 23.1217 - precision: 0.6250 - recall: 0.6250 - val_accuracy: 0.8333 - val_loss: 22.9478 - val_precision: 1.0000 - val_recall: 0.3333 - learning_rate: 5.0000e-06\n",
            "Epoch 11/30\n",
            "\u001b[1m24/24\u001b[0m \u001b[32m━━━━━━━━━━━━━━━━━━━━\u001b[0m\u001b[37m\u001b[0m \u001b[1m6s\u001b[0m 177ms/step - accuracy: 0.6408 - loss: 23.1310 - precision: 0.6427 - recall: 0.6220 - val_accuracy: 0.8333 - val_loss: 22.9314 - val_precision: 0.5000 - val_recall: 0.1250 - learning_rate: 5.0000e-06\n",
            "Epoch 12/30\n",
            "\u001b[1m24/24\u001b[0m \u001b[32m━━━━━━━━━━━━━━━━━━━━\u001b[0m\u001b[37m\u001b[0m \u001b[1m3s\u001b[0m 129ms/step - accuracy: 0.7500 - loss: 23.1161 - precision: 0.8750 - recall: 0.7000 - val_accuracy: 0.9167 - val_loss: 22.8407 - val_precision: 1.0000 - val_recall: 0.6667 - learning_rate: 5.0000e-06\n",
            "Epoch 13/30\n",
            "\u001b[1m24/24\u001b[0m \u001b[32m━━━━━━━━━━━━━━━━━━━━\u001b[0m\u001b[37m\u001b[0m \u001b[1m3s\u001b[0m 83ms/step - accuracy: 0.6584 - loss: 23.1644 - precision: 0.6245 - recall: 0.6752 - val_accuracy: 0.8333 - val_loss: 22.8795 - val_precision: 0.5000 - val_recall: 0.3750 - learning_rate: 5.0000e-06\n",
            "Epoch 14/30\n",
            "\u001b[1m24/24\u001b[0m \u001b[32m━━━━━━━━━━━━━━━━━━━━\u001b[0m\u001b[37m\u001b[0m \u001b[1m2s\u001b[0m 97ms/step - accuracy: 0.6875 - loss: 23.1081 - precision: 0.6667 - recall: 0.7500 - val_accuracy: 1.0000 - val_loss: 22.7270 - val_precision: 1.0000 - val_recall: 1.0000 - learning_rate: 5.0000e-06\n",
            "Epoch 15/30\n",
            "\u001b[1m24/24\u001b[0m \u001b[32m━━━━━━━━━━━━━━━━━━━━\u001b[0m\u001b[37m\u001b[0m \u001b[1m3s\u001b[0m 85ms/step - accuracy: 0.6706 - loss: 23.0278 - precision: 0.6842 - recall: 0.6172 - val_accuracy: 0.8333 - val_loss: 22.8030 - val_precision: 0.5000 - val_recall: 0.5000 - learning_rate: 5.0000e-06\n",
            "Epoch 16/30\n",
            "\u001b[1m24/24\u001b[0m \u001b[32m━━━━━━━━━━━━━━━━━━━━\u001b[0m\u001b[37m\u001b[0m \u001b[1m2s\u001b[0m 95ms/step - accuracy: 0.8125 - loss: 22.7338 - precision: 0.6250 - recall: 1.0000 - val_accuracy: 1.0000 - val_loss: 22.6378 - val_precision: 1.0000 - val_recall: 1.0000 - learning_rate: 5.0000e-06\n",
            "Epoch 17/30\n",
            "\u001b[1m24/24\u001b[0m \u001b[32m━━━━━━━━━━━━━━━━━━━━\u001b[0m\u001b[37m\u001b[0m \u001b[1m3s\u001b[0m 80ms/step - accuracy: 0.7554 - loss: 22.8157 - precision: 0.7406 - recall: 0.7653 - val_accuracy: 0.8125 - val_loss: 22.7138 - val_precision: 0.4545 - val_recall: 0.6250 - learning_rate: 5.0000e-06\n",
            "Epoch 18/30\n",
            "\u001b[1m24/24\u001b[0m \u001b[32m━━━━━━━━━━━━━━━━━━━━\u001b[0m\u001b[37m\u001b[0m \u001b[1m2s\u001b[0m 95ms/step - accuracy: 0.6250 - loss: 23.1031 - precision: 1.0000 - recall: 0.5000 - val_accuracy: 1.0000 - val_loss: 22.5495 - val_precision: 1.0000 - val_recall: 1.0000 - learning_rate: 5.0000e-06\n",
            "Epoch 19/30\n",
            "\u001b[1m24/24\u001b[0m \u001b[32m━━━━━━━━━━━━━━━━━━━━\u001b[0m\u001b[37m\u001b[0m \u001b[1m3s\u001b[0m 83ms/step - accuracy: 0.7234 - loss: 22.8375 - precision: 0.7335 - recall: 0.6994 - val_accuracy: 0.8542 - val_loss: 22.6093 - val_precision: 0.5556 - val_recall: 0.6250 - learning_rate: 5.0000e-06\n",
            "Epoch 20/30\n",
            "\u001b[1m24/24\u001b[0m \u001b[32m━━━━━━━━━━━━━━━━━━━━\u001b[0m\u001b[37m\u001b[0m \u001b[1m2s\u001b[0m 100ms/step - accuracy: 0.6875 - loss: 22.7521 - precision: 1.0000 - recall: 0.5455 - val_accuracy: 0.9167 - val_loss: 22.4541 - val_precision: 1.0000 - val_recall: 0.6667 - learning_rate: 5.0000e-06\n",
            "Epoch 21/30\n",
            "\u001b[1m24/24\u001b[0m \u001b[32m━━━━━━━━━━━━━━━━━━━━\u001b[0m\u001b[37m\u001b[0m \u001b[1m3s\u001b[0m 80ms/step - accuracy: 0.7495 - loss: 22.7068 - precision: 0.7366 - recall: 0.7590 - val_accuracy: 0.8542 - val_loss: 22.5161 - val_precision: 0.5714 - val_recall: 0.5000 - learning_rate: 5.0000e-06\n",
            "Epoch 22/30\n",
            "\u001b[1m24/24\u001b[0m \u001b[32m━━━━━━━━━━━━━━━━━━━━\u001b[0m\u001b[37m\u001b[0m \u001b[1m2s\u001b[0m 94ms/step - accuracy: 0.8125 - loss: 22.6194 - precision: 1.0000 - recall: 0.7273 - val_accuracy: 0.9167 - val_loss: 22.3572 - val_precision: 1.0000 - val_recall: 0.6667 - learning_rate: 5.0000e-06\n",
            "Epoch 23/30\n",
            "\u001b[1m24/24\u001b[0m \u001b[32m━━━━━━━━━━━━━━━━━━━━\u001b[0m\u001b[37m\u001b[0m \u001b[1m3s\u001b[0m 81ms/step - accuracy: 0.7327 - loss: 22.6338 - precision: 0.7823 - recall: 0.6390 - val_accuracy: 0.8542 - val_loss: 22.4311 - val_precision: 0.5714 - val_recall: 0.5000 - learning_rate: 5.0000e-06\n",
            "Epoch 24/30\n",
            "\u001b[1m24/24\u001b[0m \u001b[32m━━━━━━━━━━━━━━━━━━━━\u001b[0m\u001b[37m\u001b[0m \u001b[1m2s\u001b[0m 101ms/step - accuracy: 0.6875 - loss: 22.5803 - precision: 0.6667 - recall: 0.5714 - val_accuracy: 0.9167 - val_loss: 22.2636 - val_precision: 1.0000 - val_recall: 0.6667 - learning_rate: 5.0000e-06\n",
            "Epoch 25/30\n",
            "\u001b[1m24/24\u001b[0m \u001b[32m━━━━━━━━━━━━━━━━━━━━\u001b[0m\u001b[37m\u001b[0m \u001b[1m3s\u001b[0m 82ms/step - accuracy: 0.7507 - loss: 22.5949 - precision: 0.7463 - recall: 0.7585 - val_accuracy: 0.8750 - val_loss: 22.3522 - val_precision: 0.6667 - val_recall: 0.5000 - learning_rate: 5.0000e-06\n",
            "Epoch 26/30\n",
            "\u001b[1m24/24\u001b[0m \u001b[32m━━━━━━━━━━━━━━━━━━━━\u001b[0m\u001b[37m\u001b[0m \u001b[1m2s\u001b[0m 103ms/step - accuracy: 0.8125 - loss: 22.8651 - precision: 0.6667 - recall: 0.8000 - val_accuracy: 0.9167 - val_loss: 22.1975 - val_precision: 1.0000 - val_recall: 0.6667 - learning_rate: 5.0000e-06\n",
            "Epoch 27/30\n",
            "\u001b[1m24/24\u001b[0m \u001b[32m━━━━━━━━━━━━━━━━━━━━\u001b[0m\u001b[37m\u001b[0m \u001b[1m3s\u001b[0m 83ms/step - accuracy: 0.7278 - loss: 22.5966 - precision: 0.7016 - recall: 0.7426 - val_accuracy: 0.8750 - val_loss: 22.2778 - val_precision: 0.6667 - val_recall: 0.5000 - learning_rate: 5.0000e-06\n",
            "Epoch 28/30\n",
            "\u001b[1m24/24\u001b[0m \u001b[32m━━━━━━━━━━━━━━━━━━━━\u001b[0m\u001b[37m\u001b[0m \u001b[1m2s\u001b[0m 94ms/step - accuracy: 0.7500 - loss: 22.4186 - precision: 0.7143 - recall: 0.7143 - val_accuracy: 0.9167 - val_loss: 22.1241 - val_precision: 1.0000 - val_recall: 0.6667 - learning_rate: 5.0000e-06\n",
            "Epoch 29/30\n",
            "\u001b[1m24/24\u001b[0m \u001b[32m━━━━━━━━━━━━━━━━━━━━\u001b[0m\u001b[37m\u001b[0m \u001b[1m3s\u001b[0m 83ms/step - accuracy: 0.8139 - loss: 22.4291 - precision: 0.7982 - recall: 0.8254 - val_accuracy: 0.8750 - val_loss: 22.2059 - val_precision: 0.6667 - val_recall: 0.5000 - learning_rate: 5.0000e-06\n",
            "Epoch 30/30\n",
            "\u001b[1m24/24\u001b[0m \u001b[32m━━━━━━━━━━━━━━━━━━━━\u001b[0m\u001b[37m\u001b[0m \u001b[1m2s\u001b[0m 95ms/step - accuracy: 0.6250 - loss: 22.6070 - precision: 0.8571 - recall: 0.5455 - val_accuracy: 0.9167 - val_loss: 22.0525 - val_precision: 1.0000 - val_recall: 0.6667 - learning_rate: 5.0000e-06\n",
            "Fold 4 - Accuracy: 0.9166666865348816, Precision: 1.0, Recall: 0.6666666865348816, F1 Score: 0.7999999663051172\n",
            "Fold 5 - Class distribution before oversampling: {0: 196, 1: 47}\n",
            "Fold 5 - Class distribution after oversampling: {0: 196, 1: 196}\n",
            "Found 392 validated image filenames belonging to 2 classes.\n",
            "Found 60 validated image filenames belonging to 2 classes.\n",
            "Epoch 1/30\n"
          ]
        },
        {
          "name": "stderr",
          "output_type": "stream",
          "text": [
            "/usr/local/lib/python3.10/dist-packages/keras/src/trainers/data_adapters/py_dataset_adapter.py:121: UserWarning: Your `PyDataset` class should call `super().__init__(**kwargs)` in its constructor. `**kwargs` can include `workers`, `use_multiprocessing`, `max_queue_size`. Do not pass these arguments to `fit()`, as they will be ignored.\n",
            "  self._warn_if_super_not_called()\n"
          ]
        },
        {
          "name": "stdout",
          "output_type": "stream",
          "text": [
            "\u001b[1m24/24\u001b[0m \u001b[32m━━━━━━━━━━━━━━━━━━━━\u001b[0m\u001b[37m\u001b[0m \u001b[1m31s\u001b[0m 580ms/step - accuracy: 0.5384 - loss: 23.6600 - precision: 0.5554 - recall: 0.4982 - val_accuracy: 0.2500 - val_loss: 23.3607 - val_precision: 0.2045 - val_recall: 0.9000 - learning_rate: 5.0000e-06\n",
            "Epoch 2/30\n",
            "\u001b[1m 1/24\u001b[0m \u001b[37m━━━━━━━━━━━━━━━━━━━━\u001b[0m \u001b[1m0s\u001b[0m 17ms/step - accuracy: 0.4375 - loss: 23.6999 - precision: 0.5000 - recall: 0.4444"
          ]
        },
        {
          "name": "stderr",
          "output_type": "stream",
          "text": [
            "/usr/lib/python3.10/contextlib.py:153: UserWarning: Your input ran out of data; interrupting training. Make sure that your dataset or generator can generate at least `steps_per_epoch * epochs` batches. You may need to use the `.repeat()` function when building your dataset.\n",
            "  self.gen.throw(typ, value, traceback)\n"
          ]
        },
        {
          "name": "stdout",
          "output_type": "stream",
          "text": [
            "\b\b\b\b\b\b\b\b\b\b\b\b\b\b\b\b\b\b\b\b\b\b\b\b\b\b\b\b\b\b\b\b\b\b\b\b\b\b\b\b\b\b\b\b\b\b\b\b\b\b\b\b\b\b\b\b\b\b\b\b\b\b\b\b\b\b\b\b\b\b\b\b\b\b\b\b\b\b\b\b\b\b\b\b\b\b\b\b\b\b\b\b\b\b\b\b\b\b\b\b\b\b\b\b\b\b\b\b\b\b\b\r\u001b[1m24/24\u001b[0m \u001b[32m━━━━━━━━━━━━━━━━━━━━\u001b[0m\u001b[37m\u001b[0m \u001b[1m1s\u001b[0m 62ms/step - accuracy: 0.4375 - loss: 23.6999 - precision: 0.5000 - recall: 0.4444 - val_accuracy: 0.0000e+00 - val_loss: 23.3771 - val_precision: 0.0000e+00 - val_recall: 0.0000e+00 - learning_rate: 5.0000e-06\n",
            "Epoch 3/30\n",
            "\u001b[1m24/24\u001b[0m \u001b[32m━━━━━━━━━━━━━━━━━━━━\u001b[0m\u001b[37m\u001b[0m \u001b[1m6s\u001b[0m 186ms/step - accuracy: 0.6227 - loss: 23.4775 - precision: 0.6261 - recall: 0.6402 - val_accuracy: 0.6250 - val_loss: 23.2729 - val_precision: 0.2143 - val_recall: 0.3000 - learning_rate: 5.0000e-06\n",
            "Epoch 4/30\n",
            "\u001b[1m24/24\u001b[0m \u001b[32m━━━━━━━━━━━━━━━━━━━━\u001b[0m\u001b[37m\u001b[0m \u001b[1m0s\u001b[0m 2ms/step - accuracy: 0.7500 - loss: 23.2840 - precision: 0.4286 - recall: 1.0000 - val_accuracy: 0.5000 - val_loss: 23.2777 - val_precision: 0.0000e+00 - val_recall: 0.0000e+00 - learning_rate: 5.0000e-06\n",
            "Epoch 5/30\n",
            "\u001b[1m24/24\u001b[0m \u001b[32m━━━━━━━━━━━━━━━━━━━━\u001b[0m\u001b[37m\u001b[0m \u001b[1m5s\u001b[0m 173ms/step - accuracy: 0.5761 - loss: 23.4024 - precision: 0.5744 - recall: 0.5671 - val_accuracy: 0.6458 - val_loss: 23.2141 - val_precision: 0.2667 - val_recall: 0.4000 - learning_rate: 5.0000e-06\n",
            "Epoch 6/30\n",
            "\u001b[1m24/24\u001b[0m \u001b[32m━━━━━━━━━━━━━━━━━━━━\u001b[0m\u001b[37m\u001b[0m \u001b[1m0s\u001b[0m 2ms/step - accuracy: 0.6250 - loss: 23.4726 - precision: 0.6250 - recall: 0.6250 - val_accuracy: 0.4167 - val_loss: 23.2205 - val_precision: 0.0000e+00 - val_recall: 0.0000e+00 - learning_rate: 5.0000e-06\n",
            "Epoch 7/30\n",
            "\u001b[1m24/24\u001b[0m \u001b[32m━━━━━━━━━━━━━━━━━━━━\u001b[0m\u001b[37m\u001b[0m \u001b[1m5s\u001b[0m 175ms/step - accuracy: 0.6797 - loss: 23.1797 - precision: 0.6760 - recall: 0.6800 - val_accuracy: 0.6042 - val_loss: 23.1485 - val_precision: 0.0909 - val_recall: 0.1000 - learning_rate: 5.0000e-06\n",
            "Epoch 8/30\n",
            "\u001b[1m24/24\u001b[0m \u001b[32m━━━━━━━━━━━━━━━━━━━━\u001b[0m\u001b[37m\u001b[0m \u001b[1m2s\u001b[0m 101ms/step - accuracy: 0.6875 - loss: 23.0762 - precision: 0.7500 - recall: 0.6667 - val_accuracy: 0.5000 - val_loss: 23.1447 - val_precision: 0.0000e+00 - val_recall: 0.0000e+00 - learning_rate: 5.0000e-06\n",
            "Epoch 9/30\n",
            "\u001b[1m24/24\u001b[0m \u001b[32m━━━━━━━━━━━━━━━━━━━━\u001b[0m\u001b[37m\u001b[0m \u001b[1m6s\u001b[0m 181ms/step - accuracy: 0.6608 - loss: 23.1863 - precision: 0.6567 - recall: 0.6614 - val_accuracy: 0.7083 - val_loss: 23.0496 - val_precision: 0.1667 - val_recall: 0.1000 - learning_rate: 5.0000e-06\n",
            "Epoch 10/30\n",
            "\u001b[1m24/24\u001b[0m \u001b[32m━━━━━━━━━━━━━━━━━━━━\u001b[0m\u001b[37m\u001b[0m \u001b[1m2s\u001b[0m 95ms/step - accuracy: 0.5000 - loss: 23.3751 - precision: 0.6667 - recall: 0.4000 - val_accuracy: 0.6667 - val_loss: 23.0193 - val_precision: 0.0000e+00 - val_recall: 0.0000e+00 - learning_rate: 5.0000e-06\n",
            "Epoch 11/30\n",
            "\u001b[1m24/24\u001b[0m \u001b[32m━━━━━━━━━━━━━━━━━━━━\u001b[0m\u001b[37m\u001b[0m \u001b[1m6s\u001b[0m 185ms/step - accuracy: 0.6832 - loss: 23.0865 - precision: 0.6971 - recall: 0.6743 - val_accuracy: 0.8125 - val_loss: 22.9346 - val_precision: 0.6000 - val_recall: 0.3000 - learning_rate: 5.0000e-06\n",
            "Epoch 12/30\n",
            "\u001b[1m24/24\u001b[0m \u001b[32m━━━━━━━━━━━━━━━━━━━━\u001b[0m\u001b[37m\u001b[0m \u001b[1m3s\u001b[0m 122ms/step - accuracy: 0.6250 - loss: 22.9143 - precision: 0.4444 - recall: 0.8000 - val_accuracy: 0.7500 - val_loss: 22.8915 - val_precision: 0.0000e+00 - val_recall: 0.0000e+00 - learning_rate: 5.0000e-06\n",
            "Epoch 13/30\n",
            "\u001b[1m24/24\u001b[0m \u001b[32m━━━━━━━━━━━━━━━━━━━━\u001b[0m\u001b[37m\u001b[0m \u001b[1m6s\u001b[0m 186ms/step - accuracy: 0.6494 - loss: 23.1071 - precision: 0.6520 - recall: 0.6457 - val_accuracy: 0.8125 - val_loss: 22.8143 - val_precision: 0.6667 - val_recall: 0.2000 - learning_rate: 5.0000e-06\n",
            "Epoch 14/30\n",
            "\u001b[1m24/24\u001b[0m \u001b[32m━━━━━━━━━━━━━━━━━━━━\u001b[0m\u001b[37m\u001b[0m \u001b[1m2s\u001b[0m 100ms/step - accuracy: 0.8750 - loss: 22.6388 - precision: 0.7500 - recall: 1.0000 - val_accuracy: 0.8333 - val_loss: 22.7801 - val_precision: 0.0000e+00 - val_recall: 0.0000e+00 - learning_rate: 5.0000e-06\n",
            "Epoch 15/30\n",
            "\u001b[1m24/24\u001b[0m \u001b[32m━━━━━━━━━━━━━━━━━━━━\u001b[0m\u001b[37m\u001b[0m \u001b[1m6s\u001b[0m 181ms/step - accuracy: 0.6876 - loss: 22.9350 - precision: 0.7099 - recall: 0.6620 - val_accuracy: 0.8542 - val_loss: 22.6878 - val_precision: 0.8000 - val_recall: 0.4000 - learning_rate: 5.0000e-06\n",
            "Epoch 16/30\n",
            "\u001b[1m24/24\u001b[0m \u001b[32m━━━━━━━━━━━━━━━━━━━━\u001b[0m\u001b[37m\u001b[0m \u001b[1m2s\u001b[0m 95ms/step - accuracy: 0.7500 - loss: 22.9529 - precision: 0.7143 - recall: 0.7143 - val_accuracy: 0.8333 - val_loss: 22.6591 - val_precision: 0.0000e+00 - val_recall: 0.0000e+00 - learning_rate: 5.0000e-06\n",
            "Epoch 17/30\n",
            "\u001b[1m24/24\u001b[0m \u001b[32m━━━━━━━━━━━━━━━━━━━━\u001b[0m\u001b[37m\u001b[0m \u001b[1m6s\u001b[0m 189ms/step - accuracy: 0.7179 - loss: 22.8710 - precision: 0.6987 - recall: 0.7126 - val_accuracy: 0.8958 - val_loss: 22.5850 - val_precision: 0.8571 - val_recall: 0.6000 - learning_rate: 5.0000e-06\n",
            "Epoch 18/30\n",
            "\u001b[1m24/24\u001b[0m \u001b[32m━━━━━━━━━━━━━━━━━━━━\u001b[0m\u001b[37m\u001b[0m \u001b[1m2s\u001b[0m 97ms/step - accuracy: 0.8750 - loss: 22.6638 - precision: 0.8000 - recall: 1.0000 - val_accuracy: 0.9167 - val_loss: 22.5283 - val_precision: 0.0000e+00 - val_recall: 0.0000e+00 - learning_rate: 5.0000e-06\n",
            "Epoch 19/30\n",
            "\u001b[1m24/24\u001b[0m \u001b[32m━━━━━━━━━━━━━━━━━━━━\u001b[0m\u001b[37m\u001b[0m \u001b[1m5s\u001b[0m 178ms/step - accuracy: 0.7605 - loss: 22.7494 - precision: 0.7743 - recall: 0.7653 - val_accuracy: 0.9167 - val_loss: 22.4903 - val_precision: 0.8750 - val_recall: 0.7000 - learning_rate: 5.0000e-06\n",
            "Epoch 20/30\n",
            "\u001b[1m24/24\u001b[0m \u001b[32m━━━━━━━━━━━━━━━━━━━━\u001b[0m\u001b[37m\u001b[0m \u001b[1m2s\u001b[0m 101ms/step - accuracy: 0.8125 - loss: 22.6407 - precision: 0.8333 - recall: 0.7143 - val_accuracy: 0.9167 - val_loss: 22.4038 - val_precision: 0.0000e+00 - val_recall: 0.0000e+00 - learning_rate: 5.0000e-06\n",
            "Epoch 21/30\n",
            "\u001b[1m24/24\u001b[0m \u001b[32m━━━━━━━━━━━━━━━━━━━━\u001b[0m\u001b[37m\u001b[0m \u001b[1m6s\u001b[0m 181ms/step - accuracy: 0.7649 - loss: 22.6630 - precision: 0.8184 - recall: 0.7257 - val_accuracy: 0.9167 - val_loss: 22.4014 - val_precision: 0.8750 - val_recall: 0.7000 - learning_rate: 5.0000e-06\n",
            "Epoch 22/30\n",
            "\u001b[1m24/24\u001b[0m \u001b[32m━━━━━━━━━━━━━━━━━━━━\u001b[0m\u001b[37m\u001b[0m \u001b[1m2s\u001b[0m 100ms/step - accuracy: 0.7500 - loss: 22.8087 - precision: 0.7500 - recall: 0.7500 - val_accuracy: 0.9167 - val_loss: 22.3117 - val_precision: 0.0000e+00 - val_recall: 0.0000e+00 - learning_rate: 5.0000e-06\n",
            "Epoch 23/30\n",
            "\u001b[1m24/24\u001b[0m \u001b[32m━━━━━━━━━━━━━━━━━━━━\u001b[0m\u001b[37m\u001b[0m \u001b[1m3s\u001b[0m 82ms/step - accuracy: 0.7900 - loss: 22.5383 - precision: 0.8114 - recall: 0.7563 - val_accuracy: 0.9167 - val_loss: 22.3130 - val_precision: 0.8750 - val_recall: 0.7000 - learning_rate: 5.0000e-06\n",
            "Epoch 24/30\n",
            "\u001b[1m24/24\u001b[0m \u001b[32m━━━━━━━━━━━━━━━━━━━━\u001b[0m\u001b[37m\u001b[0m \u001b[1m2s\u001b[0m 94ms/step - accuracy: 0.5000 - loss: 23.2778 - precision: 0.5000 - recall: 0.5000 - val_accuracy: 0.9167 - val_loss: 22.2249 - val_precision: 0.0000e+00 - val_recall: 0.0000e+00 - learning_rate: 5.0000e-06\n",
            "Epoch 25/30\n",
            "\u001b[1m24/24\u001b[0m \u001b[32m━━━━━━━━━━━━━━━━━━━━\u001b[0m\u001b[37m\u001b[0m \u001b[1m3s\u001b[0m 84ms/step - accuracy: 0.7140 - loss: 22.6864 - precision: 0.7398 - recall: 0.6584 - val_accuracy: 0.9375 - val_loss: 22.2421 - val_precision: 0.8889 - val_recall: 0.8000 - learning_rate: 5.0000e-06\n",
            "Epoch 26/30\n",
            "\u001b[1m24/24\u001b[0m \u001b[32m━━━━━━━━━━━━━━━━━━━━\u001b[0m\u001b[37m\u001b[0m \u001b[1m2s\u001b[0m 93ms/step - accuracy: 0.8125 - loss: 22.2224 - precision: 0.7778 - recall: 0.8750 - val_accuracy: 0.9167 - val_loss: 22.1670 - val_precision: 0.0000e+00 - val_recall: 0.0000e+00 - learning_rate: 5.0000e-06\n",
            "Epoch 27/30\n",
            "\u001b[1m24/24\u001b[0m \u001b[32m━━━━━━━━━━━━━━━━━━━━\u001b[0m\u001b[37m\u001b[0m \u001b[1m3s\u001b[0m 83ms/step - accuracy: 0.7780 - loss: 22.4464 - precision: 0.7702 - recall: 0.7839 - val_accuracy: 0.9375 - val_loss: 22.1717 - val_precision: 0.8889 - val_recall: 0.8000 - learning_rate: 5.0000e-06\n",
            "Epoch 28/30\n",
            "\u001b[1m24/24\u001b[0m \u001b[32m━━━━━━━━━━━━━━━━━━━━\u001b[0m\u001b[37m\u001b[0m \u001b[1m2s\u001b[0m 97ms/step - accuracy: 0.8125 - loss: 22.4262 - precision: 0.8750 - recall: 0.7778 - val_accuracy: 0.9167 - val_loss: 22.1099 - val_precision: 0.0000e+00 - val_recall: 0.0000e+00 - learning_rate: 5.0000e-06\n",
            "Epoch 29/30\n",
            "\u001b[1m24/24\u001b[0m \u001b[32m━━━━━━━━━━━━━━━━━━━━\u001b[0m\u001b[37m\u001b[0m \u001b[1m5s\u001b[0m 177ms/step - accuracy: 0.7347 - loss: 22.4439 - precision: 0.7612 - recall: 0.7044 - val_accuracy: 0.9167 - val_loss: 22.1013 - val_precision: 0.8750 - val_recall: 0.7000 - learning_rate: 5.0000e-06\n",
            "Epoch 30/30\n",
            "\u001b[1m24/24\u001b[0m \u001b[32m━━━━━━━━━━━━━━━━━━━━\u001b[0m\u001b[37m\u001b[0m \u001b[1m2s\u001b[0m 96ms/step - accuracy: 0.9375 - loss: 22.0333 - precision: 1.0000 - recall: 0.8889 - val_accuracy: 0.9167 - val_loss: 22.0491 - val_precision: 0.0000e+00 - val_recall: 0.0000e+00 - learning_rate: 5.0000e-06\n",
            "Fold 5 - Accuracy: 0.9166666865348816, Precision: 0.0, Recall: 0.0, F1 Score: 0\n",
            "Average Accuracy: 0.7820512920618057\n",
            "Average Precision: 0.5363636374473572\n",
            "Average Recall: 0.5666666746139526\n",
            "Average F1 Score: 0.5171428253721789\n"
          ]
        }
      ],
      "source": [
        "import tensorflow as tf\n",
        "from tensorflow.keras.metrics import Precision, Recall\n",
        "from tensorflow.keras.applications import ResNet50\n",
        "from tensorflow.keras.layers import GlobalAveragePooling2D, Dense, Dropout, Input, BatchNormalization\n",
        "from tensorflow.keras.models import Model\n",
        "from tensorflow.keras.optimizers import Adam\n",
        "from tensorflow.keras.callbacks import EarlyStopping, ReduceLROnPlateau, ModelCheckpoint\n",
        "from tensorflow.keras import mixed_precision\n",
        "from tensorflow.keras import backend as K\n",
        "from tensorflow.keras.regularizers import l2\n",
        "from sklearn.model_selection import StratifiedKFold\n",
        "import pandas as pd\n",
        "import numpy as np\n",
        "\n",
        "# Enable mixed precision for memory savings\n",
        "mixed_precision.set_global_policy('mixed_float16')\n",
        "\n",
        "# Load the training dataset\n",
        "training_dataset_path = '/content/drive/MyDrive/Research_Dysgraphia/training_dataset.csv'\n",
        "train_df = pd.read_csv(training_dataset_path)\n",
        "\n",
        "# Convert labels to string type for compatibility with ImageDataGenerator\n",
        "train_df['Label'] = train_df['Label'].astype(str)\n",
        "\n",
        "# Parameters\n",
        "image_size = (128, 128)  # Reduced image size\n",
        "batch_size = 16  # Increased batch size\n",
        "epochs = 30  # Increased epochs for more training iterations\n",
        "learning_rate = 0.000005  # Further reduced learning rate\n",
        "k = 5  # Number of folds for cross-validation\n",
        "\n",
        "# K-Fold Cross-Validation on training data\n",
        "train_df['Label_int'] = train_df['Label'].astype(int)  # Convert labels to integers for stratification\n",
        "skf = StratifiedKFold(n_splits=k, shuffle=True, random_state=42)\n",
        "\n",
        "# Initialize lists to store fold-wise performance metrics\n",
        "fold_var = 1\n",
        "accuracies = []\n",
        "precisions = []\n",
        "recalls = []\n",
        "f1_scores = []\n",
        "\n",
        "for train_index, val_index in skf.split(np.zeros(len(train_df)), train_df['Label_int']):\n",
        "    training_data = train_df.iloc[train_index].reset_index(drop=True)\n",
        "    validation_data = train_df.iloc[val_index].reset_index(drop=True)\n",
        "\n",
        "    # Oversampling the Minority Class Without Augmentation\n",
        "    # Separate majority and minority classes in training data\n",
        "    class_counts = training_data['Label_int'].value_counts()\n",
        "    print(f\"Fold {fold_var} - Class distribution before oversampling: {class_counts.to_dict()}\")\n",
        "\n",
        "    majority_class = class_counts.idxmax()\n",
        "    minority_class = class_counts.idxmin()\n",
        "\n",
        "    df_majority = training_data[training_data['Label_int'] == majority_class]\n",
        "    df_minority = training_data[training_data['Label_int'] == minority_class]\n",
        "\n",
        "    # Oversample minority class\n",
        "    df_minority_oversampled = df_minority.sample(n=len(df_majority), replace=True, random_state=42)\n",
        "\n",
        "    # Combine majority class with oversampled minority class\n",
        "    training_data_oversampled = pd.concat([df_majority, df_minority_oversampled], ignore_index=True)\n",
        "\n",
        "    # Shuffle the oversampled training data\n",
        "    training_data_oversampled = training_data_oversampled.sample(frac=1, random_state=42).reset_index(drop=True)\n",
        "\n",
        "    # Display class distribution after oversampling\n",
        "    oversampled_class_counts = training_data_oversampled['Label_int'].value_counts()\n",
        "    print(f\"Fold {fold_var} - Class distribution after oversampling: {oversampled_class_counts.to_dict()}\")\n",
        "\n",
        "    # Build the model\n",
        "    input_tensor = Input(shape=(128, 128, 3))  # Updated input size\n",
        "    base_model = ResNet50(weights='imagenet', include_top=False, input_tensor=input_tensor)\n",
        "\n",
        "    # Freeze more layers to save memory\n",
        "    for layer in base_model.layers[:-30]:  # Freeze more layers to reduce overfitting\n",
        "        layer.trainable = False\n",
        "\n",
        "    x = base_model.output\n",
        "    x = GlobalAveragePooling2D()(x)\n",
        "    x = BatchNormalization()(x)\n",
        "    x = Dropout(0.7)(x)\n",
        "    x = Dense(256, activation='relu', kernel_regularizer=l2(0.05))(x)  # Added L2 regularization and reduced neurons\n",
        "    x = BatchNormalization()(x)\n",
        "    x = Dropout(0.5)(x)\n",
        "    output = Dense(1, activation='sigmoid', dtype='float32')(x)  # Ensure output is float32\n",
        "\n",
        "    model = Model(inputs=base_model.input, outputs=output)\n",
        "\n",
        "    # Define metrics\n",
        "    precision_metric = Precision(name='precision')\n",
        "    recall_metric = Recall(name='recall')\n",
        "\n",
        "    # Compile the model with Adam optimizer\n",
        "    optimizer = Adam(learning_rate=learning_rate)\n",
        "    model.compile(optimizer=optimizer,\n",
        "                  loss='binary_crossentropy',\n",
        "                  metrics=['accuracy', precision_metric, recall_metric])\n",
        "\n",
        "    # Prepare data generators for training and validation with data augmentation\n",
        "    train_generator = tf.keras.preprocessing.image.ImageDataGenerator(\n",
        "        rescale=1./255,\n",
        "        rotation_range=20,\n",
        "        width_shift_range=0.2,\n",
        "        height_shift_range=0.2,\n",
        "        shear_range=0.2,\n",
        "        zoom_range=0.2,\n",
        "        horizontal_flip=False,  # Avoid mirroring handwriting\n",
        "        fill_mode='nearest'\n",
        "    ).flow_from_dataframe(\n",
        "        dataframe=training_data_oversampled,\n",
        "        x_col=\"Image_Path\",\n",
        "        y_col=\"Label\",\n",
        "        target_size=image_size,\n",
        "        class_mode='binary',\n",
        "        batch_size=batch_size,\n",
        "        shuffle=True\n",
        "    )\n",
        "\n",
        "    val_generator = tf.keras.preprocessing.image.ImageDataGenerator(rescale=1./255).flow_from_dataframe(\n",
        "        dataframe=validation_data,\n",
        "        x_col=\"Image_Path\",\n",
        "        y_col=\"Label\",\n",
        "        target_size=image_size,\n",
        "        class_mode='binary',\n",
        "        batch_size=batch_size,\n",
        "        shuffle=False\n",
        "    )\n",
        "\n",
        "    # Callbacks for early stopping and learning rate reduction\n",
        "    early_stopping = EarlyStopping(monitor='val_loss', patience=3, restore_best_weights=True)  # Reduced patience\n",
        "    lr_scheduler = ReduceLROnPlateau(monitor='val_loss', factor=0.5, patience=2, min_lr=1e-7)  # Adjusted patience and min_lr\n",
        "    checkpoint = ModelCheckpoint(f'/content/drive/MyDrive/Research_Dysgraphia/dysgraphia_model_fold{fold_var}.keras',\n",
        "                                 save_best_only=True, monitor='val_loss', mode='min')\n",
        "\n",
        "    # Fit the model\n",
        "    history = model.fit(\n",
        "        train_generator,\n",
        "        steps_per_epoch=len(training_data_oversampled) // batch_size,\n",
        "        epochs=epochs,\n",
        "        validation_data=val_generator,\n",
        "        validation_steps=len(validation_data) // batch_size,\n",
        "        callbacks=[early_stopping, lr_scheduler, checkpoint]\n",
        "        # No need to pass class_weight since we oversampled\n",
        "    )\n",
        "\n",
        "    # Calculate metrics for this fold\n",
        "    precision = history.history['val_precision'][-1]\n",
        "    recall = history.history['val_recall'][-1]\n",
        "    f1_score = 2 * (precision * recall) / (precision + recall + 1e-7) if (precision + recall) > 0 else 0\n",
        "    accuracy = history.history['val_accuracy'][-1]\n",
        "\n",
        "    accuracies.append(accuracy)\n",
        "    precisions.append(precision)\n",
        "    recalls.append(recall)\n",
        "    f1_scores.append(f1_score)\n",
        "\n",
        "    print(f\"Fold {fold_var} - Accuracy: {accuracy}, Precision: {precision}, Recall: {recall}, F1 Score: {f1_score}\")\n",
        "    fold_var += 1\n",
        "\n",
        "    # Clear session to free up memory\n",
        "    K.clear_session()\n",
        "\n",
        "# Calculate average of all folds\n",
        "average_accuracy = np.mean(accuracies)\n",
        "average_precision = np.mean(precisions)\n",
        "average_recall = np.mean(recalls)\n",
        "average_f1_score = np.mean(f1_scores)\n",
        "\n",
        "print(f\"Average Accuracy: {average_accuracy}\")\n",
        "print(f\"Average Precision: {average_precision}\")\n",
        "print(f\"Average Recall: {average_recall}\")\n",
        "print(f\"Average F1 Score: {average_f1_score}\")\n"
      ]
    },
    {
      "cell_type": "code",
      "execution_count": 41,
      "metadata": {
        "colab": {
          "base_uri": "https://localhost:8080/"
        },
        "id": "LHIfGEvUIPj8",
        "outputId": "8ee5f986-7661-42bb-ca38-a6b3dfa6ee08"
      },
      "outputs": [
        {
          "name": "stdout",
          "output_type": "stream",
          "text": [
            "Found 76 validated image filenames belonging to 2 classes.\n"
          ]
        },
        {
          "name": "stderr",
          "output_type": "stream",
          "text": [
            "/usr/local/lib/python3.10/dist-packages/keras/src/trainers/data_adapters/py_dataset_adapter.py:121: UserWarning: Your `PyDataset` class should call `super().__init__(**kwargs)` in its constructor. `**kwargs` can include `workers`, `use_multiprocessing`, `max_queue_size`. Do not pass these arguments to `fit()`, as they will be ignored.\n",
            "  self._warn_if_super_not_called()\n"
          ]
        },
        {
          "name": "stdout",
          "output_type": "stream",
          "text": [
            "\u001b[1m10/10\u001b[0m \u001b[32m━━━━━━━━━━━━━━━━━━━━\u001b[0m\u001b[37m\u001b[0m \u001b[1m7s\u001b[0m 220ms/step - accuracy: 0.9621 - loss: 22.0970 - precision: 0.8943 - recall: 0.9002\n",
            "Testing Loss: 22.082168579101562\n",
            "Testing Accuracy: 0.9605262875556946\n",
            "Testing Precision: 0.875\n",
            "Testing Recall: 0.9333333373069763\n",
            "Testing F1 Score: 0.9032257583643517\n",
            "\u001b[1m10/10\u001b[0m \u001b[32m━━━━━━━━━━━━━━━━━━━━\u001b[0m\u001b[37m\u001b[0m \u001b[1m6s\u001b[0m 363ms/step\n",
            "Confusion Matrix:\n",
            "[[59  2]\n",
            " [ 1 14]]\n",
            "Classification Report:\n",
            "                precision    recall  f1-score   support\n",
            "\n",
            "Non-Dysgraphic       0.98      0.97      0.98        61\n",
            "    Dysgraphic       0.88      0.93      0.90        15\n",
            "\n",
            "      accuracy                           0.96        76\n",
            "     macro avg       0.93      0.95      0.94        76\n",
            "  weighted avg       0.96      0.96      0.96        76\n",
            "\n"
          ]
        }
      ],
      "source": [
        "import tensorflow as tf\n",
        "from tensorflow.keras.preprocessing.image import ImageDataGenerator\n",
        "from sklearn.metrics import confusion_matrix, classification_report\n",
        "\n",
        "# Parameters\n",
        "image_size = (128, 128)\n",
        "batch_size = 8\n",
        "\n",
        "# Load the testing dataset\n",
        "testing_dataset_path = '/content/drive/MyDrive/Research_Dysgraphia/testing_dataset.csv'\n",
        "test_df = pd.read_csv(testing_dataset_path)\n",
        "test_df['Label'] = test_df['Label'].astype(str)\n",
        "\n",
        "# Prepare the testing data generator\n",
        "test_datagen = ImageDataGenerator(rescale=1./255)\n",
        "\n",
        "test_generator = test_datagen.flow_from_dataframe(\n",
        "    dataframe=test_df,\n",
        "    x_col=\"Image_Path\",\n",
        "    y_col=\"Label\",\n",
        "    target_size=image_size,\n",
        "    class_mode='binary',\n",
        "    batch_size=batch_size,\n",
        "    shuffle=False\n",
        ")\n",
        "\n",
        "# Load the best model\n",
        "best_model_path = f'/content/drive/MyDrive/Research_Dysgraphia/dysgraphia_model_fold{4}.keras'\n",
        "model = tf.keras.models.load_model(best_model_path)\n",
        "\n",
        "# Evaluate the model on the testing dataset\n",
        "test_loss, test_accuracy, test_precision, test_recall = model.evaluate(test_generator)\n",
        "test_f1_score = 2 * (test_precision * test_recall) / (test_precision + test_recall + 1e-7)\n",
        "\n",
        "print(f\"Testing Loss: {test_loss}\")\n",
        "print(f\"Testing Accuracy: {test_accuracy}\")\n",
        "print(f\"Testing Precision: {test_precision}\")\n",
        "print(f\"Testing Recall: {test_recall}\")\n",
        "print(f\"Testing F1 Score: {test_f1_score}\")\n",
        "\n",
        "# Generate predictions\n",
        "predictions = model.predict(test_generator)\n",
        "predicted_labels = (predictions >= 0.5).astype(int).reshape(-1)\n",
        "\n",
        "# True labels\n",
        "true_labels = test_generator.classes\n",
        "\n",
        "# Confusion Matrix and Classification Report\n",
        "cm = confusion_matrix(true_labels, predicted_labels)\n",
        "print(\"Confusion Matrix:\")\n",
        "print(cm)\n",
        "\n",
        "target_names = ['Non-Dysgraphic', 'Dysgraphic']\n",
        "report = classification_report(true_labels, predicted_labels, target_names=target_names)\n",
        "print(\"Classification Report:\")\n",
        "print(report)\n"
      ]
    },
    {
      "cell_type": "code",
      "execution_count": 39,
      "metadata": {
        "colab": {
          "base_uri": "https://localhost:8080/",
          "height": 410
        },
        "id": "7PsieEmiGeIz",
        "outputId": "3811a04b-26cd-4249-b3af-8e4578596636"
      },
      "outputs": [
        {
          "data": {
            "image/png": "[encoded data removed]",
            "text/plain": [
              "<Figure size 1200x400 with 2 Axes>"
            ]
          },
          "metadata": {},
          "output_type": "display_data"
        }
      ],
      "source": [
        "import matplotlib.pyplot as plt\n",
        "\n",
        "# Assuming `history` is the returned object from `model.fit()`\n",
        "plt.figure(figsize=(12, 4))\n",
        "\n",
        "# Accuracy Plot\n",
        "plt.subplot(1, 2, 1)\n",
        "plt.plot(history.history['accuracy'], label='Training Accuracy')\n",
        "plt.plot(history.history['val_accuracy'], label='Validation Accuracy')\n",
        "plt.title('Accuracy Over Epochs')\n",
        "plt.xlabel('Epochs')\n",
        "plt.ylabel('Accuracy')\n",
        "plt.legend()\n",
        "\n",
        "# Loss Plot\n",
        "plt.subplot(1, 2, 2)\n",
        "plt.plot(history.history['loss'], label='Training Loss')\n",
        "plt.plot(history.history['val_loss'], label='Validation Loss')\n",
        "plt.title('Loss Over Epochs')\n",
        "plt.xlabel('Epochs')\n",
        "plt.ylabel('Loss')\n",
        "plt.legend()\n",
        "\n",
        "plt.show()\n",
        "\n"
      ]
    },
    {
      "cell_type": "markdown",
      "metadata": {},
      "source": []
    }
  ],
  "metadata": {
    "accelerator": "GPU",
    "colab": {
      "gpuType": "A100",
      "machine_shape": "hm",
      "provenance": []
    },
    "kernelspec": {
      "display_name": "Python 3",
      "name": "python3"
    },
    "language_info": {
      "name": "python"
    }
  },
  "nbformat": 4,
  "nbformat_minor": 0
}
